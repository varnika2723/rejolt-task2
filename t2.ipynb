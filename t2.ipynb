{
  "metadata": {
    "language_info": {
      "name": ""
    },
    "kernelspec": {
      "name": "python",
      "display_name": "Python (Pyodide)",
      "language": "python"
    }
  },
  "nbformat_minor": 4,
  "nbformat": 4,
  "cells": [
    {
      "cell_type": "code",
      "source": "!pip install bs4\n!pip install requests\n!pip install html5lib",
      "metadata": {
        "trusted": true
      },
      "execution_count": null,
      "outputs": []
    },
    {
      "cell_type": "code",
      "source": "def getNextPage(soup):\n  page=soup.find()",
      "metadata": {
        "trusted": true
      },
      "execution_count": null,
      "outputs": []
    },
    {
      "cell_type": "code",
      "source": "import requests\nfrom bs4 import BeautifulSoup\nurl=\"https://www.flipkart.com/redmi-10-power-power-black-128-gb/p/itm17561f2c0c6b6?pid=MOBGSYMFPHKSJTWH&lid=LSTMOBGSYMFPHKSJTWHMK8VKQ&marketplace=FLIPKART&store=tyy%2F4io&srno=b_1_1&otracker=nmenu_sub_Electronics_0_Mi&fm=organic&iid=793c7526-46c3-4307-9a92-86cea1bbd912.MOBGSYMFPHKSJTWH.SEARCH&ppt=browse&ppn=browse&ssid=85eu8wxho00000001699883573158\"\nr=requests.get(url)\nhtmlContent=r.content\nsoup=BeautifulSoup(htmlContent,'html.parser')\nsoup.prettify\n",
      "metadata": {
        "trusted": true
      },
      "execution_count": null,
      "outputs": []
    },
    {
      "cell_type": "code",
      "source": "names=[]\nprice=[]\nrating=[]\nram=[]\nmemory=[]\ncamera=[]\nscreen=[]\nfor k in range(1,38):\n  url=\"https://www.flipkart.com/redmi-10-power-power-black-128-gb/p/itm17561f2c0c6b6?pid=MOBGSYMFPHKSJTWH&lid=LSTMOBGSYMFPHKSJTWHMK8VKQ&marketplace=FLIPKART&store=tyy%2F4io&srno=b_1_1&otracker=nmenu_sub_Electronics_0_Mi&fm=organic&iid=793c7526-46c3-4307-9a92-86cea1bbd912.MOBGSYMFPHKSJTWH.SEARCH&ppt=browse&ppn=browse&ssid=85eu8wxho00000001699883573158\"\n  r=requests.get(url)\n  htmlContent=r.content\n  soup=BeautifulSoup(htmlContent,'html.parser')\n  for a in soup.find_all('a',class_=\"_1fQZEK\"):\n    t=[]\n    for i in a.find_all(\"li\",class_='rgWa7D'):\n      t.append(i.get_text())\n    memory.append(t[0])\n    screen.append(t[1])\n    camera.append(t[2])\n    try:\n      names.append(a.find('div',class_=\"_4rR01T\").get_text())\n    except:\n      names.append(\"Nan\")\n    try:\n      price.append(a.find('div',class_=\"_30jeq3 _1_WHN1\").get_text())\n    except:\n      price.append(\"Nan\")\n    try:\n      rating.append(a.find('div',class_=\"_3LWZlK\").get_text())\n    except:\n      rating.append(\"Nan\")\ndata={\"Name\":names,\"Price\":price,\"Rating\":rating,\"Memory\":memory,\"Camera\":camera,\"Screen\":screen}\nimport pandas as pd\ndf=pd.DataFrame(data)\ndf.head()\n",
      "metadata": {
        "trusted": true
      },
      "execution_count": null,
      "outputs": []
    },
    {
      "cell_type": "code",
      "source": "",
      "metadata": {},
      "execution_count": null,
      "outputs": []
    }
  ]
}